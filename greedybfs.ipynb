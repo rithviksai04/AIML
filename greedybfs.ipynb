{
  "nbformat": 4,
  "nbformat_minor": 0,
  "metadata": {
    "colab": {
      "provenance": []
    },
    "kernelspec": {
      "name": "python3",
      "display_name": "Python 3"
    },
    "language_info": {
      "name": "python"
    }
  },
  "cells": [
    {
      "cell_type": "code",
      "source": [
        "import heapq  # Required for priority queue\n",
        "\n",
        "def greedy_bfs(graph, start, goal, heuristic):\n",
        "    # Priority queue: elements are tuples (heuristic_cost, node, path)\n",
        "    queue = [(heuristic[start], start, [start])]\n",
        "    visited = set()\n",
        "\n",
        "    while queue:\n",
        "        h_cost, current, path = heapq.heappop(queue)\n",
        "\n",
        "        if current == goal:\n",
        "            return path\n",
        "\n",
        "        if current in visited:\n",
        "            continue\n",
        "\n",
        "        visited.add(current)\n",
        "\n",
        "        for neighbor in graph[current]:\n",
        "            if neighbor not in visited:\n",
        "                heapq.heappush(queue, (heuristic[neighbor], neighbor, path + [neighbor]))\n",
        "\n",
        "    return None  # If no path found\n",
        "\n",
        "# Example usage:\n",
        "graph = {\n",
        "    'A': ['B', 'C'],\n",
        "    'B': ['D', 'E'],\n",
        "    'C': ['F'],\n",
        "    'D': [],\n",
        "    'E': ['F'],\n",
        "    'F': []\n",
        "}\n",
        "\n",
        "# Heuristic values (estimates from node to goal 'F')\n",
        "heuristic = {\n",
        "    'A': 3,\n",
        "    'B': 2,\n",
        "    'C': 4,\n",
        "    'D': 6,\n",
        "    'E': 1,\n",
        "    'F': 0\n",
        "}\n",
        "\n",
        "path = greedy_bfs(graph, 'A', 'F', heuristic)\n",
        "print(\"Path found:\", path)\n"
      ],
      "metadata": {
        "colab": {
          "base_uri": "https://localhost:8080/"
        },
        "id": "ANSXe4VVNEIe",
        "outputId": "29380c05-4989-4bc4-adff-eb7592e3ff47"
      },
      "execution_count": 1,
      "outputs": [
        {
          "output_type": "stream",
          "name": "stdout",
          "text": [
            "Path found: ['A', 'B', 'E', 'F']\n"
          ]
        }
      ]
    }
  ]
}