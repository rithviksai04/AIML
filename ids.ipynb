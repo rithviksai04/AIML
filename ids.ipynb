{
  "nbformat": 4,
  "nbformat_minor": 0,
  "metadata": {
    "colab": {
      "provenance": []
    },
    "kernelspec": {
      "name": "python3",
      "display_name": "Python 3"
    },
    "language_info": {
      "name": "python"
    }
  },
  "cells": [
    {
      "cell_type": "code",
      "execution_count": null,
      "metadata": {
        "id": "bt05ZEQqS4Hx"
      },
      "outputs": [],
      "source": [
        "def depth_limited_search(graph, current, goal, limit):\n",
        "    if current == goal:\n",
        "        return [current]\n",
        "    if limit <= 0:\n",
        "        return None\n",
        "    for neighbor in graph.get(current, []):\n",
        "        path = depth_limited_search(graph, neighbor, goal, limit - 1)\n",
        "        if path:\n",
        "            return [current] + path\n",
        "    return None\n",
        "\n",
        "def iterative_deepening_search(graph, start, goal, max_depth=50):\n",
        "    for depth in range(max_depth):\n",
        "        path = depth_limited_search(graph, start, goal, depth)\n",
        "        if path:\n",
        "            return path\n",
        "    return None\n",
        "\n",
        "# Example graph\n",
        "graph = {\n",
        "    'A': ['B', 'C'],\n",
        "    'B': ['D', 'E'],\n",
        "    'C': ['F'],\n",
        "    'D': [],\n",
        "    'E': ['F'],\n",
        "    'F': []\n",
        "}\n",
        "\n",
        "# Run IDS to find path from 'A' to 'F'\n",
        "path = iterative_deepening_search(graph, 'A', 'F')\n",
        "print(\"Path found:\", path)\n"
      ]
    }
  ]
}