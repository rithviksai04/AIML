{
  "nbformat": 4,
  "nbformat_minor": 0,
  "metadata": {
    "colab": {
      "provenance": []
    },
    "kernelspec": {
      "name": "python3",
      "display_name": "Python 3"
    },
    "language_info": {
      "name": "python"
    }
  },
  "cells": [
    {
      "cell_type": "code",
      "execution_count": null,
      "metadata": {
        "id": "7_ubsbGjUTp3"
      },
      "outputs": [],
      "source": [
        "import heapq\n",
        "\n",
        "def greedy_bfs(graph, start, goal, heuristic):\n",
        "    # Priority queue with tuples (heuristic_value, current_node, path)\n",
        "    queue = [(heuristic[start], start, [start])]\n",
        "    visited = set()\n",
        "\n",
        "    while queue:\n",
        "        h_value, current, path = heapq.heappop(queue)\n",
        "\n",
        "        if current == goal:\n",
        "            return path\n",
        "\n",
        "        if current in visited:\n",
        "            continue\n",
        "\n",
        "        visited.add(current)\n",
        "\n",
        "        for neighbor in graph.get(current, []):\n",
        "            if neighbor not in visited:\n",
        "                heapq.heappush(queue, (heuristic[neighbor], neighbor, path + [neighbor]))\n",
        "\n",
        "    return None  # If goal is not found\n"
      ]
    }
  ]
}