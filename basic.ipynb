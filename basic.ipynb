{
  "nbformat": 4,
  "nbformat_minor": 0,
  "metadata": {
    "colab": {
      "provenance": []
    },
    "kernelspec": {
      "name": "python3",
      "display_name": "Python 3"
    },
    "language_info": {
      "name": "python"
    }
  },
  "cells": [
    {
      "cell_type": "code",
      "execution_count": null,
      "metadata": {
        "id": "iTQ3l9SVUtju"
      },
      "outputs": [],
      "source": [
        "def add(a, b):\n",
        "    return a + b\n",
        "\n",
        "def subtract(a, b):\n",
        "    return a - b\n",
        "\n",
        "def multiply(a, b):\n",
        "    return a * b\n",
        "\n",
        "def divide(a, b):\n",
        "    if b != 0:\n",
        "        return a / b\n",
        "    else:\n",
        "        return \"Division by zero not allowed\"\n",
        "\n",
        "# Input from user\n",
        "num1 = float(input(\"Enter first number: \"))\n",
        "num2 = float(input(\"Enter second number: \"))\n",
        "\n",
        "# Perform operations\n",
        "print(\"\\nResults:\")\n",
        "print(f\"Addition: {num1} + {num2} = {add(num1, num2)}\")\n",
        "print(f\"Subtraction: {num1} - {num2} = {subtract(num1, num2)}\")\n",
        "print(f\"Multiplication: {num1} * {num2} = {multiply(num1, num2)}\")\n",
        "print(f\"Division: {num1} / {num2} = {divide(num1, num2)}\")\n"
      ]
    }
  ]
}