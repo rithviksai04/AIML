{
  "nbformat": 4,
  "nbformat_minor": 0,
  "metadata": {
    "colab": {
      "provenance": []
    },
    "kernelspec": {
      "name": "python3",
      "display_name": "Python 3"
    },
    "language_info": {
      "name": "python"
    }
  },
  "cells": [
    {
      "cell_type": "code",
      "execution_count": 1,
      "metadata": {
        "id": "2DmkZYCIW9Jg",
        "outputId": "6008cff0-0998-47e5-a081-f2ed48411aa6",
        "colab": {
          "base_uri": "https://localhost:8080/"
        }
      },
      "outputs": [
        {
          "output_type": "stream",
          "name": "stdout",
          "text": [
            "Start at x=-3.9259, value=-37.9687\n",
            "Step 1: x=-3.8259, value=-36.5935\n",
            "Step 2: x=-3.7259, value=-35.2383\n",
            "Step 3: x=-3.6259, value=-33.9031\n",
            "Step 4: x=-3.5259, value=-32.5879\n",
            "Step 5: x=-3.4259, value=-31.2927\n",
            "Step 6: x=-3.3259, value=-30.0175\n",
            "Step 7: x=-3.2259, value=-28.7623\n",
            "Step 8: x=-3.1259, value=-27.5272\n",
            "Step 9: x=-3.0259, value=-26.3120\n",
            "Step 10: x=-2.9259, value=-25.1168\n",
            "Best solution: x=-2.9259, value=-25.1168\n"
          ]
        }
      ],
      "source": [
        "import random\n",
        "\n",
        "# Objective function: Peak at x = 3 with value = 10\n",
        "def objective_function(x):\n",
        "    return -(x - 3)**2 + 10\n",
        "\n",
        "def hill_climbing(max_steps=10, step_size=0.1):\n",
        "    current = random.uniform(-10, 10)  # Start at random point\n",
        "    current_value = objective_function(current)\n",
        "    print(f\"Start at x={current:.4f}, value={current_value:.4f}\")\n",
        "\n",
        "    for step in range(max_steps):\n",
        "        # Try neighbors: small step left and right\n",
        "        left = current - step_size\n",
        "        right = current + step_size\n",
        "\n",
        "        left_value = objective_function(left)\n",
        "        right_value = objective_function(right)\n",
        "\n",
        "        # Find best neighbor\n",
        "        if left_value > current_value and left_value >= right_value:\n",
        "            current, current_value = left, left_value\n",
        "        elif right_value > current_value and right_value > left_value:\n",
        "            current, current_value = right, right_value\n",
        "        else:\n",
        "            # No better neighbor found\n",
        "            print(f\"Stopping early at step {step}\")\n",
        "            break\n",
        "\n",
        "        print(f\"Step {step+1}: x={current:.4f}, value={current_value:.4f}\")\n",
        "\n",
        "    print(f\"Best solution: x={current:.4f}, value={current_value:.4f}\")\n",
        "\n",
        "# Run the algorithm\n",
        "hill_climbing()\n"
      ]
    }
  ]
}